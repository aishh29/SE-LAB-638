{
  "nbformat": 4,
  "nbformat_minor": 0,
  "metadata": {
    "colab": {
      "provenance": [],
      "authorship_tag": "ABX9TyOCGQIDBe8O77A5S8f5bqI7",
      "include_colab_link": true
    },
    "kernelspec": {
      "name": "python3",
      "display_name": "Python 3"
    },
    "language_info": {
      "name": "python"
    }
  },
  "cells": [
    {
      "cell_type": "markdown",
      "metadata": {
        "id": "view-in-github",
        "colab_type": "text"
      },
      "source": [
        "<a href=\"https://colab.research.google.com/github/aishh29/SE-LAB-638/blob/main/untitled1.ipynb\" target=\"_parent\"><img src=\"https://colab.research.google.com/assets/colab-badge.svg\" alt=\"Open In Colab\"/></a>"
      ]
    },
    {
      "cell_type": "markdown",
      "source": [
        "HARDCODED VARIABLES"
      ],
      "metadata": {
        "id": "pJu1MI_yT_R_"
      }
    },
    {
      "cell_type": "code",
      "source": [
        "# Step 1: Hardcoded variables\n",
        "name = \"John\"\n",
        "age = 25\n",
        "city = \"New York\"\n",
        "\n",
        "# Step 2: Taking user input\n",
        "user_name = input(\"Enter your name: \")\n",
        "user_age = int(input(\"Enter your age: \"))\n",
        "user_city = input(\"Enter your city: \")\n",
        "\n",
        "\n",
        "print(f\"Hello {user_name}, you are {user_age} years old and live in {user_city}.\")\n",
        "print(f\"Hardcoded info: Name: {name}, Age: {age}, City: {city}\")"
      ],
      "metadata": {
        "colab": {
          "base_uri": "https://localhost:8080/"
        },
        "id": "rB-avNgITmEs",
        "outputId": "7a01157e-6ed8-49d7-fabc-939a94246a13"
      },
      "execution_count": null,
      "outputs": [
        {
          "output_type": "stream",
          "name": "stdout",
          "text": [
            "Enter your name: Jeevani\n",
            "Enter your age: 20\n",
            "Enter your city: hydrebad\n",
            "Hello Jeevani, you are 20 years old and live in hydrebad.\n",
            "Hardcoded info: Name: John, Age: 25, City: New York\n"
          ]
        }
      ]
    },
    {
      "cell_type": "markdown",
      "source": [
        "KEYBOARD INPUT"
      ],
      "metadata": {
        "id": "3zfwGTpPUK7k"
      }
    },
    {
      "cell_type": "code",
      "source": [
        "# Accepting user input using input() function\n",
        "user_name = input(\"Enter your name: \")\n",
        "user_age = int(input(\"Enter your age: \"))  # Convert the input to an integer\n",
        "user_city = input(\"Enter your city: \")\n",
        "\n",
        "# Displaying the data entered by the user\n",
        "print(f\"Hello {user_name}, you are {user_age} years old and live in {user_city}.\")"
      ],
      "metadata": {
        "colab": {
          "base_uri": "https://localhost:8080/"
        },
        "id": "qHWsAtbEUXBS",
        "outputId": "2b185a0a-ad72-4e3f-8188-7d0057b72e58"
      },
      "execution_count": null,
      "outputs": [
        {
          "output_type": "stream",
          "name": "stdout",
          "text": [
            "Enter your name: Jeevani\n",
            "Enter your age: 20\n",
            "Enter your city: hyderbad\n",
            "Hello Jeevani, you are 20 years old and live in hyderbad.\n"
          ]
        }
      ]
    },
    {
      "cell_type": "markdown",
      "source": [
        "READ FROM FILE SINGLE INPUT\n"
      ],
      "metadata": {
        "id": "0ShlvjwvUl_o"
      }
    },
    {
      "cell_type": "code",
      "source": [
        "# Read a single input from a file\n",
        "filename = '/content/Jeevani.txt'  # File containing a single input\n",
        "\n",
        "try:\n",
        "    with open(filename, 'r') as file:  # Open the file in read mode\n",
        "        single_input = file.readline().strip()  # Read the first line and remove any extra whitespace\n",
        "    print(f\"The input from the file is: {single_input}\")\n",
        "except FileNotFoundError:\n",
        "    print(f\"Error: The file {filename} was not found.\")"
      ],
      "metadata": {
        "colab": {
          "base_uri": "https://localhost:8080/"
        },
        "id": "ojq1HNQHVw1R",
        "outputId": "1428e770-adbf-4bd2-82ee-3396d4afe858"
      },
      "execution_count": null,
      "outputs": [
        {
          "output_type": "stream",
          "name": "stdout",
          "text": [
            "The input from the file is: Jeevani\n"
          ]
        }
      ]
    },
    {
      "cell_type": "markdown",
      "source": [
        "READ FROM FILE MULTIPLE INPUT"
      ],
      "metadata": {
        "id": "n_8CZqMGV5FH"
      }
    },
    {
      "cell_type": "code",
      "source": [
        "# Read multiple inputs from a file and process them\n",
        "filename = '/content/Jeevani,25,New York.txt'  # File containing multiple inputs\n",
        "\n",
        "try:\n",
        "    with open(filename, 'r') as file:\n",
        "        # Read all lines from the file\n",
        "        lines = file.readlines()\n",
        "\n",
        "    # Process each line\n",
        "    for line in lines:\n",
        "        # Split the line into name, age, and city\n",
        "        name, age, city = line.strip().split(',')\n",
        "\n",
        "        # Display the processed data\n",
        "        print(f\"Name: {name}, Age: {age}, City: {city}\")\n",
        "\n",
        "except FileNotFoundError:\n",
        "    print(f\"Error: The file {filename} was not found.\")"
      ],
      "metadata": {
        "colab": {
          "base_uri": "https://localhost:8080/"
        },
        "id": "5qwxl86nWBjv",
        "outputId": "a645fed2-e343-4445-cc2d-2da526d84897"
      },
      "execution_count": null,
      "outputs": [
        {
          "output_type": "stream",
          "name": "stdout",
          "text": [
            "Name: Jeevani, Age: 25, City: New York\n",
            "Name: Aishu, Age: 30, City: Los Angeles\n",
            "Name: Jeeshu, Age: 35, City: Chicago\n"
          ]
        }
      ]
    },
    {
      "cell_type": "markdown",
      "source": [
        "SAVE ALL VERSIONS"
      ],
      "metadata": {
        "id": "ZUhCGljlXKg8"
      }
    },
    {
      "cell_type": "code",
      "source": [
        "# Write multiple numbers to a file\n",
        "with open('multiple_inputs.txt', 'w') as file:\n",
        "    file.write(\"10\\n20\\n30\")  # Write multiple numbers, each on a new line\n",
        "\n",
        "print(\"multiple_inputs.txt created!\")  # Confirmation message"
      ],
      "metadata": {
        "colab": {
          "base_uri": "https://localhost:8080/"
        },
        "id": "sAyQU3BjZMWy",
        "outputId": "635ac3bf-4583-4466-bef3-45ba796457a7"
      },
      "execution_count": null,
      "outputs": [
        {
          "output_type": "stream",
          "name": "stdout",
          "text": [
            "multiple_inputs.txt created!\n"
          ]
        }
      ]
    },
    {
      "cell_type": "markdown",
      "source": [
        "DEBUG AND FIX ERRORS"
      ],
      "metadata": {
        "id": "1bK43S6nZOeP"
      }
    },
    {
      "cell_type": "code",
      "source": [
        "# Read From File (Multiple Inputs) Example\n",
        "# Program: Read multiple numbers from a file and calculate their sum\n",
        "\n",
        "try:\n",
        "    with open('multiple_inputs.txt', 'r') as file:\n",
        "        numbers = file.readlines()  # Read all lines from the file\n",
        "        numbers = [int(num.strip()) for num in numbers]  # Convert each line to an integer\n",
        "\n",
        "    result = sum(numbers)  # Calculate the sum of the numbers\n",
        "    print(f\"Numbers from file: {numbers}, Sum: {result}\")  # Output the numbers and their sum\n",
        "\n",
        "except FileNotFoundError:\n",
        "    print(\"File not found. Please create a file named 'multiple_inputs.txt'.\")\n",
        "except ValueError:\n",
        "    print(\"File content must contain valid integers.\")"
      ],
      "metadata": {
        "colab": {
          "base_uri": "https://localhost:8080/"
        },
        "id": "OQYGGIpYZS8s",
        "outputId": "6cd42444-09b0-46fe-d539-58e0234fc520"
      },
      "execution_count": null,
      "outputs": [
        {
          "output_type": "stream",
          "name": "stdout",
          "text": [
            "Numbers from file: [10, 20, 30], Sum: 60\n"
          ]
        }
      ]
    }
  ]
}